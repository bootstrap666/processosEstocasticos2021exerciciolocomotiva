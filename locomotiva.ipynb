{
  "nbformat": 4,
  "nbformat_minor": 0,
  "metadata": {
    "colab": {
      "name": "locomotiva.ipynb",
      "provenance": [],
      "authorship_tag": "ABX9TyMRQ1Ix6W0hJyxlMi3CxP6N",
      "include_colab_link": true
    },
    "kernelspec": {
      "name": "python3",
      "display_name": "Python 3"
    },
    "language_info": {
      "name": "python"
    }
  },
  "cells": [
    {
      "cell_type": "markdown",
      "metadata": {
        "id": "view-in-github",
        "colab_type": "text"
      },
      "source": [
        "<a href=\"https://colab.research.google.com/github/bootstrap666/processosEstocasticos2021exerciciolocomotiva/blob/main/locomotiva.ipynb\" target=\"_parent\"><img src=\"https://colab.research.google.com/assets/colab-badge.svg\" alt=\"Open In Colab\"/></a>"
      ]
    },
    {
      "cell_type": "code",
      "metadata": {
        "id": "7Qu8p7XnAI4_"
      },
      "source": [
        "import numpy as np\n",
        "import matplotlib.pyplot as plt"
      ],
      "execution_count": 1,
      "outputs": []
    },
    {
      "cell_type": "code",
      "metadata": {
        "colab": {
          "base_uri": "https://localhost:8080/",
          "height": 296
        },
        "id": "OfhHnzMLP7HF",
        "outputId": "276e3add-3c1e-4d89-c0b7-f2fe1cc9e928"
      },
      "source": [
        "theta = np.random.uniform(low=0.0, high=np.pi, size = 500000)\n",
        "\n",
        "v = (theta - np.pi/2)*90/np.pi\n",
        "\n",
        "count, bins, ignored = plt.hist(v,15, density=True)\n",
        "plt.xlabel(r'v [m/s]')\n",
        "plt.ylabel(r'p{v}')"
      ],
      "execution_count": 2,
      "outputs": [
        {
          "output_type": "execute_result",
          "data": {
            "text/plain": [
              "Text(0, 0.5, 'p{v}')"
            ]
          },
          "metadata": {
            "tags": []
          },
          "execution_count": 2
        },
        {
          "output_type": "display_data",
          "data": {
            "image/png": "[encoded data removed]",
            "text/plain": [
              "<Figure size 432x288 with 1 Axes>"
            ]
          },
          "metadata": {
            "tags": [],
            "needs_background": "light"
          }
        }
      ]
    }
  ]
}